{
  "nbformat": 4,
  "nbformat_minor": 0,
  "metadata": {
    "colab": {
      "name": "線形代数まとめ.ipynb",
      "provenance": [],
      "authorship_tag": "ABX9TyNtrqZ1fwCsHJktjidwQqpH",
      "include_colab_link": true
    },
    "kernelspec": {
      "name": "python3",
      "display_name": "Python 3"
    },
    "language_info": {
      "name": "python"
    }
  },
  "cells": [
    {
      "cell_type": "markdown",
      "metadata": {
        "id": "view-in-github",
        "colab_type": "text"
      },
      "source": [
        "<a href=\"https://colab.research.google.com/github/miyagawa-toshiki/Basics-of-Linear-Algebra/blob/main/%E7%B7%9A%E5%BD%A2%E4%BB%A3%E6%95%B0%E3%81%BE%E3%81%A8%E3%82%81.ipynb\" target=\"_parent\"><img src=\"https://colab.research.google.com/assets/colab-badge.svg\" alt=\"Open In Colab\"/></a>"
      ]
    },
    {
      "cell_type": "code",
      "metadata": {
        "colab": {
          "base_uri": "https://localhost:8080/"
        },
        "id": "89prRaziHXj0",
        "outputId": "ed1662bc-17af-4106-d48b-3a3b4750b58a"
      },
      "source": [
        "# ベクトル\n",
        "import numpy as np\n",
        "\n",
        "x=np.array([2,1])\n",
        "print(x)\n",
        "x=x.reshape(-1,1)\n",
        "x"
      ],
      "execution_count": 33,
      "outputs": [
        {
          "output_type": "stream",
          "name": "stdout",
          "text": [
            "[2 1]\n"
          ]
        },
        {
          "output_type": "execute_result",
          "data": {
            "text/plain": [
              "array([[2],\n",
              "       [1]])"
            ]
          },
          "metadata": {},
          "execution_count": 33
        }
      ]
    },
    {
      "cell_type": "code",
      "metadata": {
        "colab": {
          "base_uri": "https://localhost:8080/"
        },
        "id": "YbeAQKgqKtxG",
        "outputId": "8b6b2b9e-a227-4b43-ba29-64f8258a5a54"
      },
      "source": [
        "# ベクトルの計算\n",
        "x=np.array([2,1]).reshape(-1,1)\n",
        "y=np.array([1,3]).reshape(-1,1)\n",
        "print(x)\n",
        "print(y)\n",
        "print(x+y)\n",
        "print(x-y)\n",
        "print(2*x)\n",
        "print(-y)\n",
        "print('ベクトルの内積',x*y) # ベクトルの内積\n",
        "\n",
        "print('ベクトル同士の内積はスカラーになる', np.dot(x.T,y))"
      ],
      "execution_count": 5,
      "outputs": [
        {
          "output_type": "stream",
          "name": "stdout",
          "text": [
            "[[2]\n",
            " [1]]\n",
            "[[1]\n",
            " [3]]\n",
            "[[3]\n",
            " [4]]\n",
            "[[ 1]\n",
            " [-2]]\n",
            "[[4]\n",
            " [2]]\n",
            "[[-1]\n",
            " [-3]]\n",
            "ベクトルの内積 [[2]\n",
            " [3]]\n",
            "ベクトル同士の内積はスカラーになる [[5]]\n"
          ]
        }
      ]
    },
    {
      "cell_type": "code",
      "metadata": {
        "colab": {
          "base_uri": "https://localhost:8080/"
        },
        "id": "A479cZT3L-9U",
        "outputId": "b6b06fd8-2fcb-4cdb-b08a-41dd286b7dfc"
      },
      "source": [
        "# ノルム\n",
        "x=np.array([4,-3]).reshape(-1,1)\n",
        "print(np.linalg.norm(x))\n",
        "print('L1ノルム:',np.linalg.norm(x,1)) # L1ノルム\n",
        "print('L2ノルム:',np.linalg.norm(x,2)) # L2ノルム\n",
        "print('L∞ノルム:',np.linalg.norm(x,np.inf)) #L∞ノルム"
      ],
      "execution_count": 35,
      "outputs": [
        {
          "output_type": "stream",
          "name": "stdout",
          "text": [
            "5.0\n",
            "L1ノルム: 7.0\n",
            "L2ノルム: 5.0\n",
            "L∞ノルム: 4.0\n"
          ]
        }
      ]
    },
    {
      "cell_type": "code",
      "metadata": {
        "colab": {
          "base_uri": "https://localhost:8080/"
        },
        "id": "7CRZsG-HOAXJ",
        "outputId": "f1ea7be3-a7c4-4c7f-e82f-48352c45bfa4"
      },
      "source": [
        "# 距離\n",
        "x=np.array([4,-3]).reshape(-1,1)\n",
        "y=np.array([2,4]).reshape(-1,1)\n",
        "print(np.linalg.norm(x-y))\n",
        "from scipy.spatial import distance\n",
        "print('ユークリッド距離:',distance.euclidean(x,y)) # ユークリッド距離\n",
        "print('マンハッタン距離:',distance.cityblock(x,y))# マンハッタン距離\n",
        "print('チェビシェフ距離',distance.chebyshev(x,y)) # チェビシェフ距離"
      ],
      "execution_count": 12,
      "outputs": [
        {
          "output_type": "stream",
          "name": "stdout",
          "text": [
            "7.280109889280518\n",
            "ユークリッド距離: 7.280109889280518\n",
            "マンハッタン距離: 9\n",
            "チェビシェフ距離 7\n"
          ]
        }
      ]
    },
    {
      "cell_type": "code",
      "metadata": {
        "colab": {
          "base_uri": "https://localhost:8080/"
        },
        "id": "01VwCZBrPIuI",
        "outputId": "ed70a2e6-a19d-40c9-c0e8-ddd2c38fe42a"
      },
      "source": [
        "# 内積\n",
        "x=np.array([4,-3]).reshape(-1,1)\n",
        "y=np.array([2,4]).reshape(-1,1)\n",
        "print(np.dot(x.T,y))#ベクトル同士の内積はスカラーになるが、Pythonでは要素が一つだけのNumpyの\barrayが返ってくる\n",
        "np.dot(x.T,y)[0,0]"
      ],
      "execution_count": 15,
      "outputs": [
        {
          "output_type": "stream",
          "name": "stdout",
          "text": [
            "[[-4]]\n"
          ]
        },
        {
          "output_type": "execute_result",
          "data": {
            "text/plain": [
              "-4"
            ]
          },
          "metadata": {},
          "execution_count": 15
        }
      ]
    },
    {
      "cell_type": "code",
      "metadata": {
        "colab": {
          "base_uri": "https://localhost:8080/"
        },
        "id": "AkfVAU3lPvj2",
        "outputId": "ff4f669b-d76a-4a17-892f-6016ba802cc4"
      },
      "source": [
        "# 行列式\n",
        "A = np.array([\n",
        "    [ 4., -7., 4],\n",
        "    [ 1., 1., -1.],\n",
        "    [ 2., 5., -8.],\n",
        "])\n",
        "print('Aの行列式',np.linalg.det(A))#Aの行列式\n",
        "\n",
        "print('Aの逆行列',np.linalg.inv(A))"
      ],
      "execution_count": 17,
      "outputs": [
        {
          "output_type": "stream",
          "name": "stdout",
          "text": [
            "Aの行列式 -42.00000000000001\n",
            "Aの逆行列 [[ 0.07142857  0.85714286 -0.07142857]\n",
            " [-0.14285714  0.95238095 -0.19047619]\n",
            " [-0.07142857  0.80952381 -0.26190476]]\n"
          ]
        }
      ]
    },
    {
      "cell_type": "code",
      "metadata": {
        "colab": {
          "base_uri": "https://localhost:8080/"
        },
        "id": "L3GTseY5QhAW",
        "outputId": "b4a71f62-e763-42ee-fa4e-a9f7ffcd7e54"
      },
      "source": [
        "# 解を求める\n",
        "A = np.array([\n",
        "    [ 4., -7., 4],\n",
        "    [ 1., 1., -1.],\n",
        "    [ 2., 5., -8.],\n",
        "])\n",
        "b = np.array([1., 6., 3.]).reshape(-1,1)\n",
        "np.dot(np.linalg.inv(A),b)"
      ],
      "execution_count": 19,
      "outputs": [
        {
          "output_type": "execute_result",
          "data": {
            "text/plain": [
              "array([[5.],\n",
              "       [5.],\n",
              "       [4.]])"
            ]
          },
          "metadata": {},
          "execution_count": 19
        }
      ]
    },
    {
      "cell_type": "code",
      "metadata": {
        "colab": {
          "base_uri": "https://localhost:8080/"
        },
        "id": "EdO53SbFRV-b",
        "outputId": "26422847-bd53-446f-fd7a-0489ca4bed1d"
      },
      "source": [
        "#ランク\n",
        "A = np.array([\n",
        "    [ 2., 1., -1],\n",
        "    [ 1., -1., 3.],\n",
        "    [ -1., 5., 2.],\n",
        "])\n",
        "np.linalg.matrix_rank(A)"
      ],
      "execution_count": 20,
      "outputs": [
        {
          "output_type": "execute_result",
          "data": {
            "text/plain": [
              "3"
            ]
          },
          "metadata": {},
          "execution_count": 20
        }
      ]
    },
    {
      "cell_type": "code",
      "metadata": {
        "colab": {
          "base_uri": "https://localhost:8080/"
        },
        "id": "73c0nncwR16J",
        "outputId": "3d53ab98-1c5e-4e2d-c708-46071f99ceff"
      },
      "source": [
        "# 行列の演算\n",
        "A = np.array([\n",
        "    [ 4., -7., 4],\n",
        "    [ 1., 1., -1.],\n",
        "    [ 2., 5., -8.],\n",
        "])\n",
        "B = np.array([\n",
        "    [ 1., 2., -5.],\n",
        "    [ 2., 3., -7.],\n",
        "    [ 4., -1., 7.],\n",
        "])\n",
        "k=10\n",
        "\n",
        "print(A+B)\n",
        "print(A-B)\n",
        "print(k*A)\n",
        "print((1/k)*A)"
      ],
      "execution_count": 23,
      "outputs": [
        {
          "output_type": "stream",
          "name": "stdout",
          "text": [
            "[[ 5. -5. -1.]\n",
            " [ 3.  4. -8.]\n",
            " [ 6.  4. -1.]]\n",
            "[[  3.  -9.   9.]\n",
            " [ -1.  -2.   6.]\n",
            " [ -2.   6. -15.]]\n",
            "[[ 40. -70.  40.]\n",
            " [ 10.  10. -10.]\n",
            " [ 20.  50. -80.]]\n",
            "[[ 0.4 -0.7  0.4]\n",
            " [ 0.1  0.1 -0.1]\n",
            " [ 0.2  0.5 -0.8]]\n"
          ]
        }
      ]
    },
    {
      "cell_type": "code",
      "metadata": {
        "colab": {
          "base_uri": "https://localhost:8080/"
        },
        "id": "wRpAJ4xzST4E",
        "outputId": "056c64c4-2124-41a2-f368-373254fd7492"
      },
      "source": [
        "# 行列とベクトルの積\n",
        "A = np.array([\n",
        "    [ 4., -7., 4],\n",
        "    [ 1., 1., -1.],\n",
        "    [ 2., 5., -8.],\n",
        "])\n",
        "B = np.array([\n",
        "    [ 1., 2., -5.],\n",
        "    [ 2., 3., -7.],\n",
        "])\n",
        "x = np.array([1., 2., 3.]).reshape(-1,1)\n",
        "print(np.dot(A,x))\n",
        "print(np.dot(B,x))"
      ],
      "execution_count": 25,
      "outputs": [
        {
          "output_type": "stream",
          "name": "stdout",
          "text": [
            "[[  2.]\n",
            " [  0.]\n",
            " [-12.]]\n",
            "[[-10.]\n",
            " [-13.]]\n"
          ]
        }
      ]
    },
    {
      "cell_type": "code",
      "metadata": {
        "colab": {
          "base_uri": "https://localhost:8080/"
        },
        "id": "4NhqL7pjSWmm",
        "outputId": "3ab3c79a-e188-4236-cea3-f85dff84d238"
      },
      "source": [
        "# 行列と行列の積\n",
        "A = np.array([\n",
        "    [ 2., 1.],\n",
        "    [ 1., 3.],\n",
        "    [ 1., -1.],\n",
        "])\n",
        "B = np.array([\n",
        "    [ 1., -1., 2.],\n",
        "    [ 1., 2., 3.],\n",
        "])\n",
        "print(np.dot(A,B))\n",
        "print(np.dot(B,A))"
      ],
      "execution_count": 27,
      "outputs": [
        {
          "output_type": "stream",
          "name": "stdout",
          "text": [
            "[[ 3.  0.  7.]\n",
            " [ 4.  5. 11.]\n",
            " [ 0. -3. -1.]]\n",
            "[[ 3. -4.]\n",
            " [ 7.  4.]]\n"
          ]
        }
      ]
    },
    {
      "cell_type": "code",
      "metadata": {
        "colab": {
          "base_uri": "https://localhost:8080/"
        },
        "id": "RTtDzLubUNfK",
        "outputId": "989ebfed-05ff-4587-daeb-f7ea49514f47"
      },
      "source": [
        "#線形写像\n",
        "A = np.array([\n",
        "    [ 1., 2., -3.],\n",
        "    [ 2., -1., 1.],\n",
        "    [ -1., 3., -2.],\n",
        "])\n",
        "x = np.array([4., 2., 3.]).reshape(-1,1)\n",
        "print(A)\n",
        "np.dot(A,x)"
      ],
      "execution_count": 29,
      "outputs": [
        {
          "output_type": "stream",
          "name": "stdout",
          "text": [
            "[[ 1.  2. -3.]\n",
            " [ 2. -1.  1.]\n",
            " [-1.  3. -2.]]\n"
          ]
        },
        {
          "output_type": "execute_result",
          "data": {
            "text/plain": [
              "array([[-1.],\n",
              "       [ 9.],\n",
              "       [-4.]])"
            ]
          },
          "metadata": {},
          "execution_count": 29
        }
      ]
    },
    {
      "cell_type": "code",
      "metadata": {
        "colab": {
          "base_uri": "https://localhost:8080/"
        },
        "id": "jY61iBbKaAlX",
        "outputId": "60618567-1de1-4125-b3e9-14fff4d82774"
      },
      "source": [
        "# 合成写像\n",
        "A = np.array([\n",
        "    [ 1., 2.],\n",
        "    [ 3., -1.],\n",
        "    [ 4., 5.],\n",
        "])\n",
        "\n",
        "B = np.array([\n",
        "    [ -2., 2., -1.,],\n",
        "    [ 3., 1., 2.,],\n",
        "])\n",
        "print(np.dot(B,A))\n",
        "print(np.dot(A,B))"
      ],
      "execution_count": 30,
      "outputs": [
        {
          "output_type": "stream",
          "name": "stdout",
          "text": [
            "[[  0. -11.]\n",
            " [ 14.  15.]]\n",
            "[[ 4.  4.  3.]\n",
            " [-9.  5. -5.]\n",
            " [ 7. 13.  6.]]\n"
          ]
        }
      ]
    },
    {
      "cell_type": "code",
      "metadata": {
        "colab": {
          "base_uri": "https://localhost:8080/"
        },
        "id": "FdLggQVkahMg",
        "outputId": "c214570e-781e-40fe-c59a-9f5cf111605b"
      },
      "source": [
        "# 行列の連結\n",
        "A = np.array([\n",
        "    [ 1., 2.],\n",
        "    [ 3., -4.],\n",
        "])\n",
        "x1 = np.array([2., 3.]).reshape(-1,1)\n",
        "x2 = np.array([1., 1.]).reshape(-1,1)\n",
        "X=np.concatenate([x1, x2], 1)\n",
        "X"
      ],
      "execution_count": 31,
      "outputs": [
        {
          "output_type": "execute_result",
          "data": {
            "text/plain": [
              "array([[2., 1.],\n",
              "       [3., 1.]])"
            ]
          },
          "metadata": {},
          "execution_count": 31
        }
      ]
    }
  ]
}